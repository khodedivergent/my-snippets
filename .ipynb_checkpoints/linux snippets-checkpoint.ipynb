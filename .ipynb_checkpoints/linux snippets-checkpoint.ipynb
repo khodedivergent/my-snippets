{
 "cells": [
  {
   "cell_type": "markdown",
   "metadata": {},
   "source": [
    "# linux \n"
   ]
  },
  {
   "cell_type": "markdown",
   "metadata": {},
   "source": [
    "### kerio setup\n",
    "sudo /etc/init.d/kerio-kvc stop/start/reload\n"
   ]
  },
  {
   "cell_type": "markdown",
   "metadata": {},
   "source": [
    "### make file\n",
    "touch filename"
   ]
  },
  {
   "cell_type": "markdown",
   "metadata": {},
   "source": [
    "## install virtualenv\n",
    "\n",
    "### first u should install pip with this command:\n",
    "\n",
    "sudo apt-get install python3-pip\n",
    "\n",
    "### then:\n",
    "sudo pip3 install virtualenv \n",
    "\n",
    "### create a virtual env named venv:\n",
    "\n",
    "virtualenv venv\n",
    "### activate it:\n",
    "source venv/bin/activate\n",
    "\n",
    "### create a virtualenv using python3:\n",
    "\n",
    "virtualenv -p python3 myenv\n",
    "### Instead of using virtualenv you can use this command in Python3\n",
    "python3 -m venv myenv\n",
    "\n"
   ]
  },
  {
   "cell_type": "markdown",
   "metadata": {},
   "source": [
    "# django setup\n",
    "### activate your env then install django, after that create a django project using this command:\n",
    "django-admin startproject projectname\n",
    "### create an app using command below:\n",
    "python manage.py start app appname\n",
    "### save your models with :\n",
    "python manage.py makemigrations\n",
    "python manage.py migrate\n",
    "\n",
    "### run your project :\n",
    "python manage.py runserver\n"
   ]
  }
 ],
 "metadata": {
  "kernelspec": {
   "display_name": "Python 3",
   "language": "python",
   "name": "python3"
  },
  "language_info": {
   "codemirror_mode": {
    "name": "ipython",
    "version": 3
   },
   "file_extension": ".py",
   "mimetype": "text/x-python",
   "name": "python",
   "nbconvert_exporter": "python",
   "pygments_lexer": "ipython3",
   "version": "3.6.5"
  }
 },
 "nbformat": 4,
 "nbformat_minor": 2
}
